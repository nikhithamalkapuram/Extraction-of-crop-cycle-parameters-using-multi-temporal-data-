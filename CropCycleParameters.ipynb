{
  "nbformat": 4,
  "nbformat_minor": 0,
  "metadata": {
    "colab": {
      "name": "CropCycleParameters.ipynb",
      "provenance": []
    },
    "kernelspec": {
      "name": "python3",
      "display_name": "Python 3"
    },
    "accelerator": "GPU"
  },
  "cells": [
    {
      "cell_type": "code",
      "metadata": {
        "id": "0-0j4afBdphL",
        "colab_type": "code",
        "colab": {}
      },
      "source": [
        "import matplotlib.pyplot as plt\n",
        "import cv2\n",
        "import numpy as np\n",
        "from PIL import Image\n",
        "#gray1 = \"awifs_ndvi_201701_15_1_clipped.tif\"\n",
        "#gray2=\"awifs_ndvi_201701_15_2_clipped.tif\"\n",
        "#gray1_img = Image.open(gray1)"
      ],
      "execution_count": 0,
      "outputs": []
    },
    {
      "cell_type": "code",
      "metadata": {
        "id": "Hq4c-z1NYFGn",
        "colab_type": "code",
        "outputId": "ebdfed68-1618-45d2-9466-8c8968ecbda9",
        "colab": {
          "base_uri": "https://localhost:8080/",
          "height": 121
        }
      },
      "source": [
        "! git clone https://github.com/nikhithamalkapuram/ml_datasets.git"
      ],
      "execution_count": 0,
      "outputs": [
        {
          "output_type": "stream",
          "text": [
            "Cloning into 'ml_datasets'...\n",
            "remote: Enumerating objects: 10314, done.\u001b[K\n",
            "remote: Total 10314 (delta 0), reused 0 (delta 0), pack-reused 10314\u001b[K\n",
            "Receiving objects: 100% (10314/10314), 360.36 MiB | 11.79 MiB/s, done.\n",
            "Resolving deltas: 100% (3/3), done.\n",
            "Checking out files: 100% (10302/10302), done.\n"
          ],
          "name": "stdout"
        }
      ]
    },
    {
      "cell_type": "code",
      "metadata": {
        "id": "it9QfReZYN_r",
        "colab_type": "code",
        "colab": {}
      },
      "source": [
        "from osgeo import gdal\n",
        "import numpy as np\n",
        "import sys\n",
        "from os import listdir\n",
        "from os.path import isfile, join\n",
        "import numpy\n",
        "import cv2\n",
        "import glob"
      ],
      "execution_count": 0,
      "outputs": []
    },
    {
      "cell_type": "code",
      "metadata": {
        "id": "h_78lv6TYcHB",
        "colab_type": "code",
        "outputId": "2f99b17c-0466-47be-d533-2837db828ccd",
        "colab": {
          "base_uri": "https://localhost:8080/",
          "height": 1000
        }
      },
      "source": [
        "def read_img(img_list, img):\n",
        "    n = cv2.imread(img, 0)\n",
        "    img_list.append(n)\n",
        "    return img_list\n",
        "\n",
        "path = glob.glob(\"ml_datasets/Clipped_NDVI/*.tif\") #or jpg\n",
        "list_ = []\n",
        "\n",
        "cv_image = [read_img(list_, img) for img in path]\n",
        "#cv_image_list=read_img(list_,path)\n",
        "print(len(cv_image))\n",
        "print(len(cv_image[0]))\n",
        "print(cv_image[0])\n",
        "cv_img_list=cv_image[0]"
      ],
      "execution_count": 0,
      "outputs": [
        {
          "output_type": "stream",
          "text": [
            "48\n",
            "48\n",
            "[array([[255, 255, 255, ...,  34,  36,  31],\n",
            "       [255, 255, 255, ...,  29,  31,  32],\n",
            "       [255, 255, 255, ...,  31,  34,  34],\n",
            "       ...,\n",
            "       [255, 255, 255, ..., 255, 255, 255],\n",
            "       [255, 255, 255, ..., 255, 255, 255],\n",
            "       [255, 255, 255, ..., 255, 255, 255]], dtype=uint8), array([[255, 255, 255, ...,  45,  46,  47],\n",
            "       [255, 255, 255, ...,  50,  50,  47],\n",
            "       [255, 255, 255, ...,  50,  49,  47],\n",
            "       ...,\n",
            "       [255, 255, 255, ..., 255, 255, 255],\n",
            "       [255, 255, 255, ..., 255, 255, 255],\n",
            "       [255, 255, 255, ..., 255, 255, 255]], dtype=uint8), array([[255, 255, 255, ...,  49,  48,  47],\n",
            "       [255, 255, 255, ...,  52,  51,  50],\n",
            "       [255, 255, 255, ...,  52,  51,  50],\n",
            "       ...,\n",
            "       [255, 255, 255, ..., 255, 255, 255],\n",
            "       [255, 255, 255, ..., 255, 255, 255],\n",
            "       [255, 255, 255, ..., 255, 255, 255]], dtype=uint8), array([[255, 255, 255, ...,  69,  75,  71],\n",
            "       [255, 255, 255, ...,  74,  73,  76],\n",
            "       [255, 255, 255, ...,  78,  78,  79],\n",
            "       ...,\n",
            "       [255, 255, 255, ..., 255, 255, 255],\n",
            "       [255, 255, 255, ..., 255, 255, 255],\n",
            "       [255, 255, 255, ..., 255, 255, 255]], dtype=uint8), array([[255, 255, 255, ...,  51,  50,  50],\n",
            "       [255, 255, 255, ...,  51,  52,  50],\n",
            "       [255, 255, 255, ...,  52,  51,  50],\n",
            "       ...,\n",
            "       [255, 255, 255, ..., 255, 255, 255],\n",
            "       [255, 255, 255, ..., 255, 255, 255],\n",
            "       [255, 255, 255, ..., 255, 255, 255]], dtype=uint8), array([[255, 255, 255, ...,  93,  89,  88],\n",
            "       [255, 255, 255, ..., 101,  91,  88],\n",
            "       [255, 255, 255, ...,  91,  94, 103],\n",
            "       ...,\n",
            "       [255, 255, 255, ..., 255, 255, 255],\n",
            "       [255, 255, 255, ..., 255, 255, 255],\n",
            "       [255, 255, 255, ..., 255, 255, 255]], dtype=uint8), array([[255, 255, 255, ..., 122, 108,  89],\n",
            "       [255, 255, 255, ..., 119,  96, 101],\n",
            "       [255, 255, 255, ..., 109, 103, 117],\n",
            "       ...,\n",
            "       [255, 255, 255, ..., 255, 255, 255],\n",
            "       [255, 255, 255, ..., 255, 255, 255],\n",
            "       [255, 255, 255, ..., 255, 255, 255]], dtype=uint8), array([[255, 255, 255, ...,  42,  39,  41],\n",
            "       [255, 255, 255, ...,  42,  43,  45],\n",
            "       [255, 255, 255, ...,  44,  47,  47],\n",
            "       ...,\n",
            "       [255, 255, 255, ..., 255, 255, 255],\n",
            "       [255, 255, 255, ..., 255, 255, 255],\n",
            "       [255, 255, 255, ..., 255, 255, 255]], dtype=uint8), array([[255, 255, 255, ...,  44,  40,  43],\n",
            "       [255, 255, 255, ...,  38,  44,  49],\n",
            "       [255, 255, 255, ...,  39,  48,  53],\n",
            "       ...,\n",
            "       [255, 255, 255, ..., 255, 255, 255],\n",
            "       [255, 255, 255, ..., 255, 255, 255],\n",
            "       [255, 255, 255, ..., 255, 255, 255]], dtype=uint8), array([[255, 255, 255, ...,  93,  89,  90],\n",
            "       [255, 255, 255, ..., 101, 100, 103],\n",
            "       [255, 255, 255, ..., 110, 116, 116],\n",
            "       ...,\n",
            "       [255, 255, 255, ..., 255, 255, 255],\n",
            "       [255, 255, 255, ..., 255, 255, 255],\n",
            "       [255, 255, 255, ..., 255, 255, 255]], dtype=uint8), array([[255, 255, 255, ...,  51,  49,  50],\n",
            "       [255, 255, 255, ...,  51,  52,  52],\n",
            "       [255, 255, 255, ...,  53,  53,  52],\n",
            "       ...,\n",
            "       [255, 255, 255, ..., 255, 255, 255],\n",
            "       [255, 255, 255, ..., 255, 255, 255],\n",
            "       [255, 255, 255, ..., 255, 255, 255]], dtype=uint8), array([[255, 255, 255, ...,  44,  45,  48],\n",
            "       [255, 255, 255, ...,  46,  49,  51],\n",
            "       [255, 255, 255, ...,  48,  51,  51],\n",
            "       ...,\n",
            "       [255, 255, 255, ..., 255, 255, 255],\n",
            "       [255, 255, 255, ..., 255, 255, 255],\n",
            "       [255, 255, 255, ..., 255, 255, 255]], dtype=uint8), array([[255, 255, 255, ...,  53,  45,  40],\n",
            "       [255, 255, 255, ...,  44,  40,  47],\n",
            "       [255, 255, 255, ...,  41,  45,  54],\n",
            "       ...,\n",
            "       [255, 255, 255, ..., 255, 255, 255],\n",
            "       [255, 255, 255, ..., 255, 255, 255],\n",
            "       [255, 255, 255, ..., 255, 255, 255]], dtype=uint8), array([[255, 255, 255, ...,  42,  41,  38],\n",
            "       [255, 255, 255, ...,  42,  42,  41],\n",
            "       [255, 255, 255, ...,  42,  43,  44],\n",
            "       ...,\n",
            "       [255, 255, 255, ..., 255, 255, 255],\n",
            "       [255, 255, 255, ..., 255, 255, 255],\n",
            "       [255, 255, 255, ..., 255, 255, 255]], dtype=uint8), array([[255, 255, 255, ...,  48,  50,  52],\n",
            "       [255, 255, 255, ...,  50,  56,  59],\n",
            "       [255, 255, 255, ...,  59,  63,  62],\n",
            "       ...,\n",
            "       [255, 255, 255, ..., 255, 255, 255],\n",
            "       [255, 255, 255, ..., 255, 255, 255],\n",
            "       [255, 255, 255, ..., 255, 255, 255]], dtype=uint8), array([[255, 255, 255, ...,   8,   8,   8],\n",
            "       [255, 255, 255, ...,   8,   8,   8],\n",
            "       [255, 255, 255, ...,   9,   8,   8],\n",
            "       ...,\n",
            "       [255, 255, 255, ..., 255, 255, 255],\n",
            "       [255, 255, 255, ..., 255, 255, 255],\n",
            "       [255, 255, 255, ..., 255, 255, 255]], dtype=uint8), array([[255, 255, 255, ...,  43,  46,  45],\n",
            "       [255, 255, 255, ...,  46,  47,  46],\n",
            "       [255, 255, 255, ...,  47,  48,  46],\n",
            "       ...,\n",
            "       [255, 255, 255, ..., 255, 255, 255],\n",
            "       [255, 255, 255, ..., 255, 255, 255],\n",
            "       [255, 255, 255, ..., 255, 255, 255]], dtype=uint8), array([[255, 255, 255, ...,  97,  99,  96],\n",
            "       [255, 255, 255, ...,  94,  97,  95],\n",
            "       [255, 255, 255, ...,  93,  92,  90],\n",
            "       ...,\n",
            "       [255, 255, 255, ..., 255, 255, 255],\n",
            "       [255, 255, 255, ..., 255, 255, 255],\n",
            "       [255, 255, 255, ..., 255, 255, 255]], dtype=uint8), array([[255, 255, 255, ...,  55,  55,  54],\n",
            "       [255, 255, 255, ...,  60,  61,  62],\n",
            "       [255, 255, 255, ...,  59,  62,  60],\n",
            "       ...,\n",
            "       [255, 255, 255, ..., 255, 255, 255],\n",
            "       [255, 255, 255, ..., 255, 255, 255],\n",
            "       [255, 255, 255, ..., 255, 255, 255]], dtype=uint8), array([[255, 255, 255, ...,  77,  77,  77],\n",
            "       [255, 255, 255, ...,  74,  76,  78],\n",
            "       [255, 255, 255, ...,  74,  74,  75],\n",
            "       ...,\n",
            "       [255, 255, 255, ..., 255, 255, 255],\n",
            "       [255, 255, 255, ..., 255, 255, 255],\n",
            "       [255, 255, 255, ..., 255, 255, 255]], dtype=uint8), array([[255, 255, 255, ..., 115, 103, 102],\n",
            "       [255, 255, 255, ..., 112, 112, 122],\n",
            "       [255, 255, 255, ..., 105, 120, 134],\n",
            "       ...,\n",
            "       [255, 255, 255, ..., 255, 255, 255],\n",
            "       [255, 255, 255, ..., 255, 255, 255],\n",
            "       [255, 255, 255, ..., 255, 255, 255]], dtype=uint8), array([[255, 255, 255, ..., 104,  98, 100],\n",
            "       [255, 255, 255, ..., 108, 106, 103],\n",
            "       [255, 255, 255, ..., 109, 110, 104],\n",
            "       ...,\n",
            "       [255, 255, 255, ..., 255, 255, 255],\n",
            "       [255, 255, 255, ..., 255, 255, 255],\n",
            "       [255, 255, 255, ..., 255, 255, 255]], dtype=uint8), array([[255, 255, 255, ...,  44,  45,  49],\n",
            "       [255, 255, 255, ...,  47,  53,  59],\n",
            "       [255, 255, 255, ...,  54,  59,  62],\n",
            "       ...,\n",
            "       [255, 255, 255, ..., 255, 255, 255],\n",
            "       [255, 255, 255, ..., 255, 255, 255],\n",
            "       [255, 255, 255, ..., 255, 255, 255]], dtype=uint8), array([[255, 255, 255, ...,  71,  79,  81],\n",
            "       [255, 255, 255, ...,  78,  87,  89],\n",
            "       [255, 255, 255, ...,  83,  93,  91],\n",
            "       ...,\n",
            "       [255, 255, 255, ..., 255, 255, 255],\n",
            "       [255, 255, 255, ..., 255, 255, 255],\n",
            "       [255, 255, 255, ..., 255, 255, 255]], dtype=uint8), array([[255, 255, 255, ...,  66,  65,  67],\n",
            "       [255, 255, 255, ...,  69,  72,  77],\n",
            "       [255, 255, 255, ...,  73,  79,  83],\n",
            "       ...,\n",
            "       [255, 255, 255, ..., 255, 255, 255],\n",
            "       [255, 255, 255, ..., 255, 255, 255],\n",
            "       [255, 255, 255, ..., 255, 255, 255]], dtype=uint8), array([[255, 255, 255, ...,  52,  54,  58],\n",
            "       [255, 255, 255, ...,  56,  60,  62],\n",
            "       [255, 255, 255, ...,  59,  62,  60],\n",
            "       ...,\n",
            "       [255, 255, 255, ..., 255, 255, 255],\n",
            "       [255, 255, 255, ..., 255, 255, 255],\n",
            "       [255, 255, 255, ..., 255, 255, 255]], dtype=uint8), array([[255, 255, 255, ...,  46,  49,  49],\n",
            "       [255, 255, 255, ...,  48,  49,  48],\n",
            "       [255, 255, 255, ...,  49,  48,  48],\n",
            "       ...,\n",
            "       [255, 255, 255, ..., 255, 255, 255],\n",
            "       [255, 255, 255, ..., 255, 255, 255],\n",
            "       [255, 255, 255, ..., 255, 255, 255]], dtype=uint8), array([[255, 255, 255, ...,  77,  74,  74],\n",
            "       [255, 255, 255, ...,  72,  71,  71],\n",
            "       [255, 255, 255, ...,  67,  68,  68],\n",
            "       ...,\n",
            "       [255, 255, 255, ..., 255, 255, 255],\n",
            "       [255, 255, 255, ..., 255, 255, 255],\n",
            "       [255, 255, 255, ..., 255, 255, 255]], dtype=uint8), array([[255, 255, 255, ...,  25,  24,  24],\n",
            "       [255, 255, 255, ...,  25,  25,  23],\n",
            "       [255, 255, 255, ...,  25,  24,  23],\n",
            "       ...,\n",
            "       [255, 255, 255, ..., 255, 255, 255],\n",
            "       [255, 255, 255, ..., 255, 255, 255],\n",
            "       [255, 255, 255, ..., 255, 255, 255]], dtype=uint8), array([[255, 255, 255, ...,  53,  56,  52],\n",
            "       [255, 255, 255, ...,  53,  59,  56],\n",
            "       [255, 255, 255, ...,  49,  59,  63],\n",
            "       ...,\n",
            "       [255, 255, 255, ..., 255, 255, 255],\n",
            "       [255, 255, 255, ..., 255, 255, 255],\n",
            "       [255, 255, 255, ..., 255, 255, 255]], dtype=uint8), array([[255, 255, 255, ...,  46,  48,  50],\n",
            "       [255, 255, 255, ...,  51,  52,  52],\n",
            "       [255, 255, 255, ...,  53,  53,  53],\n",
            "       ...,\n",
            "       [255, 255, 255, ..., 255, 255, 255],\n",
            "       [255, 255, 255, ..., 255, 255, 255],\n",
            "       [255, 255, 255, ..., 255, 255, 255]], dtype=uint8), array([[255, 255, 255, ...,  27,  27,  28],\n",
            "       [255, 255, 255, ...,  28,  28,  29],\n",
            "       [255, 255, 255, ...,  28,  29,  29],\n",
            "       ...,\n",
            "       [255, 255, 255, ..., 255, 255, 255],\n",
            "       [255, 255, 255, ..., 255, 255, 255],\n",
            "       [255, 255, 255, ..., 255, 255, 255]], dtype=uint8), array([[255, 255, 255, ...,  56,  53,  54],\n",
            "       [255, 255, 255, ...,  54,  56,  58],\n",
            "       [255, 255, 255, ...,  54,  58,  58],\n",
            "       ...,\n",
            "       [255, 255, 255, ..., 255, 255, 255],\n",
            "       [255, 255, 255, ..., 255, 255, 255],\n",
            "       [255, 255, 255, ..., 255, 255, 255]], dtype=uint8), array([[255, 255, 255, ...,  55,  57,  46],\n",
            "       [255, 255, 255, ...,  56,  53,  53],\n",
            "       [255, 255, 255, ...,  57,  59,  66],\n",
            "       ...,\n",
            "       [255, 255, 255, ..., 255, 255, 255],\n",
            "       [255, 255, 255, ..., 255, 255, 255],\n",
            "       [255, 255, 255, ..., 255, 255, 255]], dtype=uint8), array([[255, 255, 255, ...,  59,  53,  50],\n",
            "       [255, 255, 255, ...,  56,  52,  60],\n",
            "       [255, 255, 255, ...,  51,  54,  66],\n",
            "       ...,\n",
            "       [255, 255, 255, ..., 255, 255, 255],\n",
            "       [255, 255, 255, ..., 255, 255, 255],\n",
            "       [255, 255, 255, ..., 255, 255, 255]], dtype=uint8), array([[255, 255, 255, ...,  47,  46,  44],\n",
            "       [255, 255, 255, ...,  48,  47,  44],\n",
            "       [255, 255, 255, ...,  50,  48,  46],\n",
            "       ...,\n",
            "       [255, 255, 255, ..., 255, 255, 255],\n",
            "       [255, 255, 255, ..., 255, 255, 255],\n",
            "       [255, 255, 255, ..., 255, 255, 255]], dtype=uint8), array([[255, 255, 255, ...,  64,  65,  69],\n",
            "       [255, 255, 255, ...,  69,  70,  72],\n",
            "       [255, 255, 255, ...,  71,  73,  73],\n",
            "       ...,\n",
            "       [255, 255, 255, ..., 255, 255, 255],\n",
            "       [255, 255, 255, ..., 255, 255, 255],\n",
            "       [255, 255, 255, ..., 255, 255, 255]], dtype=uint8), array([[255, 255, 255, ...,  99, 100, 103],\n",
            "       [255, 255, 255, ..., 109, 111, 112],\n",
            "       [255, 255, 255, ..., 118, 118, 115],\n",
            "       ...,\n",
            "       [255, 255, 255, ..., 255, 255, 255],\n",
            "       [255, 255, 255, ..., 255, 255, 255],\n",
            "       [255, 255, 255, ..., 255, 255, 255]], dtype=uint8), array([[255, 255, 255, ...,  20,  21,  22],\n",
            "       [255, 255, 255, ...,  22,  21,  22],\n",
            "       [255, 255, 255, ...,  26,  24,  24],\n",
            "       ...,\n",
            "       [255, 255, 255, ..., 255, 255, 255],\n",
            "       [255, 255, 255, ..., 255, 255, 255],\n",
            "       [255, 255, 255, ..., 255, 255, 255]], dtype=uint8), array([[255, 255, 255, ...,  58,  61,  61],\n",
            "       [255, 255, 255, ...,  61,  62,  59],\n",
            "       [255, 255, 255, ...,  63,  62,  61],\n",
            "       ...,\n",
            "       [255, 255, 255, ..., 255, 255, 255],\n",
            "       [255, 255, 255, ..., 255, 255, 255],\n",
            "       [255, 255, 255, ..., 255, 255, 255]], dtype=uint8), array([[255, 255, 255, ...,  60,  54,  48],\n",
            "       [255, 255, 255, ...,  56,  48,  45],\n",
            "       [255, 255, 255, ...,  47,  49,  54],\n",
            "       ...,\n",
            "       [255, 255, 255, ..., 255, 255, 255],\n",
            "       [255, 255, 255, ..., 255, 255, 255],\n",
            "       [255, 255, 255, ..., 255, 255, 255]], dtype=uint8), array([[255, 255, 255, ...,  51,  50,  51],\n",
            "       [255, 255, 255, ...,  52,  55,  56],\n",
            "       [255, 255, 255, ...,  55,  59,  58],\n",
            "       ...,\n",
            "       [255, 255, 255, ..., 255, 255, 255],\n",
            "       [255, 255, 255, ..., 255, 255, 255],\n",
            "       [255, 255, 255, ..., 255, 255, 255]], dtype=uint8), array([[255, 255, 255, ...,  60,  57,  60],\n",
            "       [255, 255, 255, ...,  61,  59,  65],\n",
            "       [255, 255, 255, ...,  55,  65,  73],\n",
            "       ...,\n",
            "       [255, 255, 255, ..., 255, 255, 255],\n",
            "       [255, 255, 255, ..., 255, 255, 255],\n",
            "       [255, 255, 255, ..., 255, 255, 255]], dtype=uint8), array([[255, 255, 255, ...,  70,  74,  73],\n",
            "       [255, 255, 255, ...,  73,  72,  68],\n",
            "       [255, 255, 255, ...,  73,  70,  67],\n",
            "       ...,\n",
            "       [255, 255, 255, ..., 255, 255, 255],\n",
            "       [255, 255, 255, ..., 255, 255, 255],\n",
            "       [255, 255, 255, ..., 255, 255, 255]], dtype=uint8), array([[255, 255, 255, ...,  94,  82,  73],\n",
            "       [255, 255, 255, ...,  93,  85,  83],\n",
            "       [255, 255, 255, ...,  88,  85,  89],\n",
            "       ...,\n",
            "       [255, 255, 255, ..., 255, 255, 255],\n",
            "       [255, 255, 255, ..., 255, 255, 255],\n",
            "       [255, 255, 255, ..., 255, 255, 255]], dtype=uint8), array([[255, 255, 255, ...,  49,  49,  47],\n",
            "       [255, 255, 255, ...,  49,  47,  48],\n",
            "       [255, 255, 255, ...,  49,  49,  51],\n",
            "       ...,\n",
            "       [255, 255, 255, ..., 255, 255, 255],\n",
            "       [255, 255, 255, ..., 255, 255, 255],\n",
            "       [255, 255, 255, ..., 255, 255, 255]], dtype=uint8), array([[255, 255, 255, ..., 149, 108, 100],\n",
            "       [255, 255, 255, ..., 143, 131, 117],\n",
            "       [255, 255, 255, ..., 119, 119, 122],\n",
            "       ...,\n",
            "       [255, 255, 255, ..., 255, 255, 255],\n",
            "       [255, 255, 255, ..., 255, 255, 255],\n",
            "       [255, 255, 255, ..., 255, 255, 255]], dtype=uint8), array([[255, 255, 255, ...,  58,  61,  58],\n",
            "       [255, 255, 255, ...,  60,  63,  65],\n",
            "       [255, 255, 255, ...,  64,  66,  65],\n",
            "       ...,\n",
            "       [255, 255, 255, ..., 255, 255, 255],\n",
            "       [255, 255, 255, ..., 255, 255, 255],\n",
            "       [255, 255, 255, ..., 255, 255, 255]], dtype=uint8)]\n"
          ],
          "name": "stdout"
        }
      ]
    },
    {
      "cell_type": "code",
      "metadata": {
        "id": "kAXbW31PaWJH",
        "colab_type": "code",
        "colab": {}
      },
      "source": [
        "ndvi_list=[] "
      ],
      "execution_count": 0,
      "outputs": []
    },
    {
      "cell_type": "code",
      "metadata": {
        "id": "JClMrgCeZ63N",
        "colab_type": "code",
        "colab": {}
      },
      "source": [
        "\n",
        "for k in cv_img_list:\n",
        "  ndvipos=k/255\n",
        "  v = numpy.zeros([3,2135,2118],dtype = numpy.float64)\n",
        "  map1 = [[204,102,0],[153,255,51],[0,204,0],[0,102,0]]\n",
        "\n",
        "  for i in range(k.shape[0]):\n",
        "    for j in range(k.shape[1]):\n",
        "      if ndvipos[i][j] <0.1:\n",
        "        \n",
        "        v[0][i][j] = map1[0][0]\n",
        "        v[1][i][j] = map1[0][1]\n",
        "        v[2][i][j] = map1[0][2]\n",
        "      if ndvipos[i][j] <=0.3 and ndvipos[i][j]>=0.2:\n",
        "        \n",
        "        v[0][i][j] = map1[1][0]\n",
        "        v[1][i][j] = map1[1][1]\n",
        "        v[2][i][j] = map1[1][2]\n",
        "      if ndvipos[i][j] <=0.5 and ndvipos[i][j]>=0.4:\n",
        "        \n",
        "        v[0][i][j] = map1[2][0]\n",
        "        v[1][i][j] = map1[2][1]\n",
        "        v[2][i][j] = map1[2][2]\n",
        "      if ndvipos[i][j] > 0.5:\n",
        "        \n",
        "        v[0][i][j] = map1[3][0]\n",
        "        v[1][i][j] = map1[3][1]\n",
        "        v[2][i][j] = map1[3][2]\n",
        "  ndvi_list.append(v)\n"
      ],
      "execution_count": 0,
      "outputs": []
    },
    {
      "cell_type": "code",
      "metadata": {
        "id": "H7qBckmJcHyz",
        "colab_type": "code",
        "colab": {}
      },
      "source": [
        "ndvi_img = []\n",
        "for i in ndvi_list:\n",
        "  ndvi_img.append(make_lupton_rgb(i[0],i[1],i[2]))\n"
      ],
      "execution_count": 0,
      "outputs": []
    },
    {
      "cell_type": "code",
      "metadata": {
        "id": "8aLPeyzPbDql",
        "colab_type": "code",
        "colab": {}
      },
      "source": [
        "ndvi_diff_list = []"
      ],
      "execution_count": 0,
      "outputs": []
    },
    {
      "cell_type": "code",
      "metadata": {
        "id": "I7yfyahhbPc1",
        "colab_type": "code",
        "colab": {}
      },
      "source": [
        "for i in range(len(ndvi_img)):\n",
        "  ndvi_diff_list.append(ndvi_img[i]-ndvi_img[i+1])\n"
      ],
      "execution_count": 0,
      "outputs": []
    },
    {
      "cell_type": "code",
      "metadata": {
        "id": "J0vPSAlkeHRe",
        "colab_type": "code",
        "outputId": "ff636cf8-623b-4c56-b34e-851cfb47741e",
        "colab": {
          "base_uri": "https://localhost:8080/",
          "height": 416
        }
      },
      "source": [
        "from PIL import Image\n",
        "import numpy \n",
        "import matplotlib.pyplot as plt\n",
        "file = \"awifs_ndvi_201701_15_1_clipped.tif\"\n",
        "im = Image.open(file)\n",
        "imarray = numpy.array(im)\n",
        "#imarray.shape\n",
        "nor_arr = (imarray/255)*2 -1\n",
        "height,width = nor_arr.shape\n",
        "nor_arr_copy = nor_arr[0:height,0:width]\n",
        "v = numpy.zeros([3,2135,2118],dtype = numpy.float64)\n",
        "map1 = [[204,102,0],[153,255,51],[0,204,0],[0,102,0]]\n",
        "nor_arr_copy=nor_arr_copy.flatten()\n",
        "cr=cg=cb=0\n",
        "for i in range(imarray.shape[0]):\n",
        "  for j in range(imarray.shape[1]):\n",
        "    if nor_arr[i][j] <0.1:\n",
        "      cr+=1\n",
        "      v[0][i][j] = map1[0][0]\n",
        "      v[1][i][j] = map1[0][1]\n",
        "      v[2][i][j] = map1[0][2]\n",
        "    if nor_arr[i][j] <=0.3 and nor_arr[i][j]>=0.2:\n",
        "      cb+=1\n",
        "      v[0][i][j] = map1[1][0]\n",
        "      v[1][i][j] = map1[1][1]\n",
        "      v[2][i][j] = map1[1][2]\n",
        "    if nor_arr[i][j] <=0.5 and nor_arr[i][j]>=0.4:\n",
        "      cg+=1\n",
        "      v[0][i][j] = map1[2][0]\n",
        "      v[1][i][j] = map1[2][1]\n",
        "      v[2][i][j] = map1[2][2]\n",
        "    if nor_arr[i][j] > 0.5:\n",
        "      v[0][i][j] = map1[3][0]\n",
        "      v[1][i][j] = map1[3][1]\n",
        "      v[2][i][j] = map1[3][2]\n",
        "print(v)"
      ],
      "execution_count": 0,
      "outputs": [
        {
          "output_type": "stream",
          "text": [
            "[[[  0.   0.   0. ... 204. 204. 204.]\n",
            "  [  0.   0.   0. ... 204. 204. 204.]\n",
            "  [  0.   0.   0. ... 204. 204. 204.]\n",
            "  ...\n",
            "  [  0.   0.   0. ...   0.   0.   0.]\n",
            "  [  0.   0.   0. ...   0.   0.   0.]\n",
            "  [  0.   0.   0. ...   0.   0.   0.]]\n",
            "\n",
            " [[102. 102. 102. ... 102. 102. 102.]\n",
            "  [102. 102. 102. ... 102. 102. 102.]\n",
            "  [102. 102. 102. ... 102. 102. 102.]\n",
            "  ...\n",
            "  [102. 102. 102. ... 102. 102. 102.]\n",
            "  [102. 102. 102. ... 102. 102. 102.]\n",
            "  [102. 102. 102. ... 102. 102. 102.]]\n",
            "\n",
            " [[  0.   0.   0. ...   0.   0.   0.]\n",
            "  [  0.   0.   0. ...   0.   0.   0.]\n",
            "  [  0.   0.   0. ...   0.   0.   0.]\n",
            "  ...\n",
            "  [  0.   0.   0. ...   0.   0.   0.]\n",
            "  [  0.   0.   0. ...   0.   0.   0.]\n",
            "  [  0.   0.   0. ...   0.   0.   0.]]]\n"
          ],
          "name": "stdout"
        }
      ]
    },
    {
      "cell_type": "code",
      "metadata": {
        "id": "ZkuHjXMceeqC",
        "colab_type": "code",
        "outputId": "465415de-10aa-47e5-f60d-084ba7d96dc3",
        "colab": {
          "base_uri": "https://localhost:8080/",
          "height": 34
        }
      },
      "source": [
        "print(cr,cg,cb)"
      ],
      "execution_count": 0,
      "outputs": [
        {
          "output_type": "stream",
          "text": [
            "4189094 14185 64480\n"
          ],
          "name": "stdout"
        }
      ]
    },
    {
      "cell_type": "code",
      "metadata": {
        "id": "II0ukzrQYDc2",
        "colab_type": "code",
        "colab": {}
      },
      "source": [
        ""
      ],
      "execution_count": 0,
      "outputs": []
    },
    {
      "cell_type": "code",
      "metadata": {
        "id": "qhsosMgOeo_4",
        "colab_type": "code",
        "outputId": "bb2d3c0d-dda3-401a-a599-c491d404752b",
        "colab": {
          "base_uri": "https://localhost:8080/",
          "height": 34
        }
      },
      "source": [
        "nor_arr_copy.shape"
      ],
      "execution_count": 0,
      "outputs": [
        {
          "output_type": "execute_result",
          "data": {
            "text/plain": [
              "(4521930,)"
            ]
          },
          "metadata": {
            "tags": []
          },
          "execution_count": 6
        }
      ]
    },
    {
      "cell_type": "code",
      "metadata": {
        "id": "LDHIatudbKO_",
        "colab_type": "code",
        "colab": {}
      },
      "source": [
        ""
      ],
      "execution_count": 0,
      "outputs": []
    },
    {
      "cell_type": "code",
      "metadata": {
        "id": "X4vCdislewcw",
        "colab_type": "code",
        "colab": {}
      },
      "source": [
        "from astropy.visualization import make_lupton_rgb\n",
        "vnew=make_lupton_rgb(v[0],v[1],v[2])"
      ],
      "execution_count": 0,
      "outputs": []
    },
    {
      "cell_type": "code",
      "metadata": {
        "id": "4nEuocwtfLAT",
        "colab_type": "code",
        "outputId": "5e4738aa-0293-4e73-c501-b9ff365a4b84",
        "colab": {
          "base_uri": "https://localhost:8080/",
          "height": 286
        }
      },
      "source": [
        "plt.imshow(vnew)"
      ],
      "execution_count": 0,
      "outputs": [
        {
          "output_type": "execute_result",
          "data": {
            "text/plain": [
              "<matplotlib.image.AxesImage at 0x7ffb6093d4a8>"
            ]
          },
          "metadata": {
            "tags": []
          },
          "execution_count": 9
        },
        {
          "output_type": "display_data",
          "data": {
            "image/png": "[encoded data removed]",
            "text/plain": [
              "<Figure size 432x288 with 1 Axes>"
            ]
          },
          "metadata": {
            "tags": []
          }
        }
      ]
    },
    {
      "cell_type": "code",
      "metadata": {
        "id": "uT1h6aMSfN1B",
        "colab_type": "code",
        "outputId": "e2ab504c-3be9-4fc3-b8b5-f629ce1ab2ad",
        "colab": {
          "base_uri": "https://localhost:8080/",
          "height": 286
        }
      },
      "source": [
        "plt.imshow(vnew)"
      ],
      "execution_count": 0,
      "outputs": [
        {
          "output_type": "execute_result",
          "data": {
            "text/plain": [
              "<matplotlib.image.AxesImage at 0x7ffb6031d940>"
            ]
          },
          "metadata": {
            "tags": []
          },
          "execution_count": 13
        },
        {
          "output_type": "display_data",
          "data": {
            "image/png": "[encoded data removed]",
            "text/plain": [
              "<Figure size 432x288 with 1 Axes>"
            ]
          },
          "metadata": {
            "tags": []
          }
        }
      ]
    },
    {
      "cell_type": "code",
      "metadata": {
        "id": "nOpba7RMfaB3",
        "colab_type": "code",
        "outputId": "890eb9d6-9121-43ed-949a-97e05bb0caba",
        "colab": {
          "base_uri": "https://localhost:8080/",
          "height": 416
        }
      },
      "source": [
        "# assuming it to be ndvi positive grayscale image\n",
        "ndvipos=imarray/255\n",
        "v = numpy.zeros([3,2135,2118],dtype = numpy.float64)\n",
        "map1 = [[204,102,0],[153,255,51],[0,204,0],[0,102,0]]\n",
        "cr=cg=cb=c2=0\n",
        "for i in range(imarray.shape[0]):\n",
        "  for j in range(imarray.shape[1]):\n",
        "    if ndvipos[i][j] <0.1:\n",
        "      cr+=1\n",
        "      v[0][i][j] = map1[0][0]\n",
        "      v[1][i][j] = map1[0][1]\n",
        "      v[2][i][j] = map1[0][2]\n",
        "    if ndvipos[i][j] <=0.3 and ndvipos[i][j]>=0.2:\n",
        "      cb+=1\n",
        "      v[0][i][j] = map1[1][0]\n",
        "      v[1][i][j] = map1[1][1]\n",
        "      v[2][i][j] = map1[1][2]\n",
        "    if ndvipos[i][j] <=0.5 and ndvipos[i][j]>=0.4:\n",
        "      cg+=1\n",
        "      v[0][i][j] = map1[2][0]\n",
        "      v[1][i][j] = map1[2][1]\n",
        "      v[2][i][j] = map1[2][2]\n",
        "    if ndvipos[i][j] > 0.5:\n",
        "      c2+=1\n",
        "      v[0][i][j] = map1[3][0]\n",
        "      v[1][i][j] = map1[3][1]\n",
        "      v[2][i][j] = map1[3][2]\n",
        "print(v)"
      ],
      "execution_count": 0,
      "outputs": [
        {
          "output_type": "stream",
          "text": [
            "[[[  0.   0.   0. ...   0.   0. 153.]\n",
            "  [  0.   0.   0. ...   0. 153. 153.]\n",
            "  [  0.   0.   0. ... 153. 153. 153.]\n",
            "  ...\n",
            "  [  0.   0.   0. ...   0.   0.   0.]\n",
            "  [  0.   0.   0. ...   0.   0.   0.]\n",
            "  [  0.   0.   0. ...   0.   0.   0.]]\n",
            "\n",
            " [[102. 102. 102. ...   0.   0. 255.]\n",
            "  [102. 102. 102. ...   0. 255. 255.]\n",
            "  [102. 102. 102. ... 255. 255. 255.]\n",
            "  ...\n",
            "  [102. 102. 102. ... 102. 102. 102.]\n",
            "  [102. 102. 102. ... 102. 102. 102.]\n",
            "  [102. 102. 102. ... 102. 102. 102.]]\n",
            "\n",
            " [[  0.   0.   0. ...   0.   0.  51.]\n",
            "  [  0.   0.   0. ...   0.  51.  51.]\n",
            "  [  0.   0.   0. ...  51.  51.  51.]\n",
            "  ...\n",
            "  [  0.   0.   0. ...   0.   0.   0.]\n",
            "  [  0.   0.   0. ...   0.   0.   0.]\n",
            "  [  0.   0.   0. ...   0.   0.   0.]]]\n"
          ],
          "name": "stdout"
        }
      ]
    },
    {
      "cell_type": "code",
      "metadata": {
        "id": "s_cqJBXNhC2D",
        "colab_type": "code",
        "outputId": "3ae9abdd-11ff-4b3e-82d8-9f7b79232a8d",
        "colab": {
          "base_uri": "https://localhost:8080/",
          "height": 286
        }
      },
      "source": [
        "vnew2=make_lupton_rgb(v[0],v[1],v[2])\n",
        "plt.imshow(vnew2)"
      ],
      "execution_count": 0,
      "outputs": [
        {
          "output_type": "execute_result",
          "data": {
            "text/plain": [
              "<matplotlib.image.AxesImage at 0x7ffb60291b00>"
            ]
          },
          "metadata": {
            "tags": []
          },
          "execution_count": 15
        },
        {
          "output_type": "display_data",
          "data": {
            "image/png": "[encoded data removed]",
            "text/plain": [
              "<Figure size 432x288 with 1 Axes>"
            ]
          },
          "metadata": {
            "tags": []
          }
        }
      ]
    },
    {
      "cell_type": "code",
      "metadata": {
        "id": "KEzOoTE6hXKd",
        "colab_type": "code",
        "outputId": "1cc39fa6-aa84-4a06-dc0a-e24f43cdf995",
        "colab": {
          "base_uri": "https://localhost:8080/",
          "height": 34
        }
      },
      "source": [
        "print(cr,cg,cb,c2)"
      ],
      "execution_count": 0,
      "outputs": [
        {
          "output_type": "stream",
          "text": [
            "28770 1399157 864291 721353\n"
          ],
          "name": "stdout"
        }
      ]
    },
    {
      "cell_type": "code",
      "metadata": {
        "id": "917RqbE6hfmU",
        "colab_type": "code",
        "colab": {}
      },
      "source": [
        "im2 = Image.open(gray2)\n",
        "imarray2 = numpy.array(im2)\n",
        "#imarray.shape\n",
        "ndvipos2 = (imarray2/255)"
      ],
      "execution_count": 0,
      "outputs": []
    },
    {
      "cell_type": "code",
      "metadata": {
        "id": "e4nXsoLJiiX5",
        "colab_type": "code",
        "outputId": "e0da0707-d6f9-4025-ed3b-f4609ac7550a",
        "colab": {
          "base_uri": "https://localhost:8080/",
          "height": 416
        }
      },
      "source": [
        "v2 = numpy.zeros([3,2135,2118],dtype = numpy.float64)\n",
        "for i in range(imarray2.shape[0]):\n",
        "  for j in range(imarray2.shape[1]):\n",
        "    if ndvipos2[i][j] <0.1:\n",
        "      cr+=1\n",
        "      v2[0][i][j] = map1[0][0]\n",
        "      v2[1][i][j] = map1[0][1]\n",
        "      v2[2][i][j] = map1[0][2]\n",
        "    if ndvipos2[i][j] <=0.3 and ndvipos2[i][j]>=0.2:\n",
        "      cb+=1\n",
        "      v2[0][i][j] = map1[1][0]\n",
        "      v2[1][i][j] = map1[1][1]\n",
        "      v2[2][i][j] = map1[1][2]\n",
        "    if ndvipos2[i][j] <=0.5 and ndvipos2[i][j]>=0.4:\n",
        "      cg+=1\n",
        "      v2[0][i][j] = map1[2][0]\n",
        "      v2[1][i][j] = map1[2][1]\n",
        "      v2[2][i][j] = map1[2][2]\n",
        "    if ndvipos2[i][j] > 0.5:\n",
        "      c2+=1\n",
        "      v2[0][i][j] = map1[3][0]\n",
        "      v2[1][i][j] = map1[3][1]\n",
        "      v2[2][i][j] = map1[3][2]\n",
        "print(v)"
      ],
      "execution_count": 0,
      "outputs": [
        {
          "output_type": "stream",
          "text": [
            "[[[  0.   0.   0. ... 153.   0. 153.]\n",
            "  [  0.   0.   0. ...   0. 153. 153.]\n",
            "  [  0.   0.   0. ... 153. 153. 153.]\n",
            "  ...\n",
            "  [  0.   0.   0. ...   0.   0.   0.]\n",
            "  [  0.   0.   0. ...   0.   0.   0.]\n",
            "  [  0.   0.   0. ...   0.   0.   0.]]\n",
            "\n",
            " [[102. 102. 102. ... 255.   0. 255.]\n",
            "  [102. 102. 102. ...   0. 255. 255.]\n",
            "  [102. 102. 102. ... 255. 255. 255.]\n",
            "  ...\n",
            "  [102. 102. 102. ... 102. 102. 102.]\n",
            "  [102. 102. 102. ... 102. 102. 102.]\n",
            "  [102. 102. 102. ... 102. 102. 102.]]\n",
            "\n",
            " [[  0.   0.   0. ...  51.   0.  51.]\n",
            "  [  0.   0.   0. ...   0.  51.  51.]\n",
            "  [  0.   0.   0. ...  51.  51.  51.]\n",
            "  ...\n",
            "  [  0.   0.   0. ...   0.   0.   0.]\n",
            "  [  0.   0.   0. ...   0.   0.   0.]\n",
            "  [  0.   0.   0. ...   0.   0.   0.]]]\n"
          ],
          "name": "stdout"
        }
      ]
    },
    {
      "cell_type": "code",
      "metadata": {
        "id": "nEBRAVaiiuDd",
        "colab_type": "code",
        "outputId": "fbcb5621-2ff3-494a-907e-66cc49ff593a",
        "colab": {
          "base_uri": "https://localhost:8080/",
          "height": 286
        }
      },
      "source": [
        "vnew2=make_lupton_rgb(v[0],v[1],v[2])\n",
        "plt.imshow(vnew2)"
      ],
      "execution_count": 0,
      "outputs": [
        {
          "output_type": "execute_result",
          "data": {
            "text/plain": [
              "<matplotlib.image.AxesImage at 0x7ffb601d2630>"
            ]
          },
          "metadata": {
            "tags": []
          },
          "execution_count": 21
        },
        {
          "output_type": "display_data",
          "data": {
            "image/png": "[encoded data removed]",
            "text/plain": [
              "<Figure size 432x288 with 1 Axes>"
            ]
          },
          "metadata": {
            "tags": []
          }
        }
      ]
    },
    {
      "cell_type": "code",
      "metadata": {
        "id": "8Ag2caNtjJMM",
        "colab_type": "code",
        "outputId": "ae6d2bd6-5534-45ef-8542-f68d7731fd9d",
        "colab": {
          "base_uri": "https://localhost:8080/",
          "height": 286
        }
      },
      "source": [
        "vnew3=make_lupton_rgb(v2[0],v2[1],v2[2])\n",
        "plt.imshow(vnew3)"
      ],
      "execution_count": 0,
      "outputs": [
        {
          "output_type": "execute_result",
          "data": {
            "text/plain": [
              "<matplotlib.image.AxesImage at 0x7ffb601b44e0>"
            ]
          },
          "metadata": {
            "tags": []
          },
          "execution_count": 22
        },
        {
          "output_type": "display_data",
          "data": {
            "image/png": "[encoded data removed]",
            "text/plain": [
              "<Figure size 432x288 with 1 Axes>"
            ]
          },
          "metadata": {
            "tags": []
          }
        }
      ]
    },
    {
      "cell_type": "code",
      "metadata": {
        "id": "xanYQ8OJjVm8",
        "colab_type": "code",
        "colab": {}
      },
      "source": [
        "ndvi_diff=vnew3-vnew2"
      ],
      "execution_count": 0,
      "outputs": []
    },
    {
      "cell_type": "code",
      "metadata": {
        "id": "pK8ZAwbjjeFh",
        "colab_type": "code",
        "outputId": "d9132f8f-9d11-4004-df1c-3d1f199602fa",
        "colab": {
          "base_uri": "https://localhost:8080/",
          "height": 286
        }
      },
      "source": [
        "plt.imshow(ndvi_diff)"
      ],
      "execution_count": 0,
      "outputs": [
        {
          "output_type": "execute_result",
          "data": {
            "text/plain": [
              "<matplotlib.image.AxesImage at 0x7ffb60111860>"
            ]
          },
          "metadata": {
            "tags": []
          },
          "execution_count": 24
        },
        {
          "output_type": "display_data",
          "data": {
            "image/png": "[encoded data removed]",
            "text/plain": [
              "<Figure size 432x288 with 1 Axes>"
            ]
          },
          "metadata": {
            "tags": []
          }
        }
      ]
    },
    {
      "cell_type": "code",
      "metadata": {
        "id": "ak2AvqVwjhaW",
        "colab_type": "code",
        "outputId": "c49d3d2d-c261-44ff-ce4d-510c754d2330",
        "colab": {
          "base_uri": "https://localhost:8080/",
          "height": 868
        }
      },
      "source": [
        "print(ndvi_diff)"
      ],
      "execution_count": 0,
      "outputs": [
        {
          "output_type": "stream",
          "text": [
            "[[[  0   0   0]\n",
            "  [  0   0   0]\n",
            "  [  0   0   0]\n",
            "  ...\n",
            "  [  0   0   0]\n",
            "  [  0   0   0]\n",
            "  [103   2 205]]\n",
            "\n",
            " [[  0   0   0]\n",
            "  [  0   0   0]\n",
            "  [  0   0   0]\n",
            "  ...\n",
            "  [  0   0   0]\n",
            "  [103   2 205]\n",
            "  [103   2 205]]\n",
            "\n",
            " [[  0   0   0]\n",
            "  [  0   0   0]\n",
            "  [  0   0   0]\n",
            "  ...\n",
            "  [103   2 205]\n",
            "  [103   2 205]\n",
            "  [  0   0   0]]\n",
            "\n",
            " ...\n",
            "\n",
            " [[  0   0   0]\n",
            "  [  0   0   0]\n",
            "  [  0   0   0]\n",
            "  ...\n",
            "  [  0   0   0]\n",
            "  [  0   0   0]\n",
            "  [  0   0   0]]\n",
            "\n",
            " [[  0   0   0]\n",
            "  [  0   0   0]\n",
            "  [  0   0   0]\n",
            "  ...\n",
            "  [  0   0   0]\n",
            "  [  0   0   0]\n",
            "  [  0   0   0]]\n",
            "\n",
            " [[  0   0   0]\n",
            "  [  0   0   0]\n",
            "  [  0   0   0]\n",
            "  ...\n",
            "  [  0   0   0]\n",
            "  [  0   0   0]\n",
            "  [  0   0   0]]]\n"
          ],
          "name": "stdout"
        }
      ]
    },
    {
      "cell_type": "code",
      "metadata": {
        "id": "NSwFnDahkBBt",
        "colab_type": "code",
        "outputId": "efbf5901-af82-436b-da08-9c165ef3e331",
        "colab": {
          "base_uri": "https://localhost:8080/",
          "height": 34
        }
      },
      "source": [
        "print(ndvi_diff[0][0][0])"
      ],
      "execution_count": 0,
      "outputs": [
        {
          "output_type": "stream",
          "text": [
            "0\n"
          ],
          "name": "stdout"
        }
      ]
    },
    {
      "cell_type": "code",
      "metadata": {
        "id": "HpyKUwu2keZk",
        "colab_type": "code",
        "outputId": "0c825d45-cfdf-43d8-9475-b041e0d511b8",
        "colab": {
          "base_uri": "https://localhost:8080/",
          "height": 34
        }
      },
      "source": [
        "distance = np.linalg.norm(vnew3[:,:,0]-vnew2[:,:,0])\n",
        "print(distance)"
      ],
      "execution_count": 0,
      "outputs": [
        {
          "output_type": "stream",
          "text": [
            "91881.24193762294\n"
          ],
          "name": "stdout"
        }
      ]
    },
    {
      "cell_type": "code",
      "metadata": {
        "id": "yfAJuTtTlkdt",
        "colab_type": "code",
        "colab": {}
      },
      "source": [
        "lp = []\n",
        "ln = []\n",
        "width = ndvi_diff[0].shape[1]\n",
        "height = ndvi_diff[0].shape[0]\n",
        "for l in ndvi_diff_img:\n",
        "  count=ncount=0\n",
        "  for i in range(3):\n",
        "    for j in range(width):\n",
        "      for k in range(height):\n",
        "        if ndvi_diff[k][j][i]>0:\n",
        "          count+=1\n",
        "        if ndvi_diff[k][j][i]<=0:\n",
        "          ncount+=1\n",
        "  lp.append(count/(3*width*height))\n",
        "  ln.append(ncount/(3*width*height))"
      ],
      "execution_count": 0,
      "outputs": []
    },
    {
      "cell_type": "code",
      "metadata": {
        "id": "VyxyIRpRgK_U",
        "colab_type": "code",
        "colab": {}
      },
      "source": [
        "max_limit = max(max(lp),max(ln))\n",
        "min_limit = min(min(lp),min(ln))\n",
        "mon_yr = [\"1Jan2017\",\"16Jan2017\",\"1Feb2017\",\"16Feb2017\",\"1Mar2017\",\"16Mar2017\",\"1Apr2017\",\"16Apr2017\",\"1May2017\",\"16May2017\",\"1Jun2017\",\"16Jun2017\",\"1July2017\",\"16July2017\",\"1Aug2017\",\"16Aug2017\",\"1Sept2017\",\"16Sept2017\",\"1Oct2017\",\"16Oct2017\",\"1Nov2017\",\"16Nov2017\",\"1Dec2017\",\"16Dec2017\",\"1Jan2018\",\"16Jan2018\",\"1Feb2018\",\"16Feb2018\",\"1Mar2018\",\"16Mar2018\",\"1Apr2018\",\"16Apr2018\",\"1May2018\",\"16May2018\",\"1Jun2018\",\"16Jun2018\",\"1July2018\",\"16July2018\",\"1Aug2018\",\"16Aug2018\",\"1Sept2018\",\"16Sept2018\",\"1Oct2018\",\"16Oct2018\",\"1Nov2018\",\"16Nov2018\",\"1Dec2018\",\"16Dec2018\"]\n",
        "plt.plot(mon_yr,lp, ‘bo-', \n",
        "\t  mon_yr, ln, ‘r*:')"
      ],
      "execution_count": 0,
      "outputs": []
    },
    {
      "cell_type": "code",
      "metadata": {
        "id": "hIXHv0zbm9Pw",
        "colab_type": "code",
        "outputId": "bfc42f74-d537-4143-b713-91e5451276fe",
        "colab": {
          "base_uri": "https://localhost:8080/",
          "height": 34
        }
      },
      "source": [
        "print(ndvi_diff.shape)"
      ],
      "execution_count": 0,
      "outputs": [
        {
          "output_type": "stream",
          "text": [
            "(2135, 2118, 3)\n"
          ],
          "name": "stdout"
        }
      ]
    },
    {
      "cell_type": "code",
      "metadata": {
        "id": "Ojv_uMxdnDQq",
        "colab_type": "code",
        "outputId": "c443b157-bab6-4507-9f49-9010984cf288",
        "colab": {
          "base_uri": "https://localhost:8080/",
          "height": 34
        }
      },
      "source": [
        "print(ncount,count)"
      ],
      "execution_count": 0,
      "outputs": [
        {
          "output_type": "stream",
          "text": [
            "11472300 2093490\n"
          ],
          "name": "stdout"
        }
      ]
    },
    {
      "cell_type": "code",
      "metadata": {
        "id": "wVljx8-tocq1",
        "colab_type": "code",
        "colab": {}
      },
      "source": [
        "den_dec=ncount/(2135*2118)"
      ],
      "execution_count": 0,
      "outputs": []
    },
    {
      "cell_type": "code",
      "metadata": {
        "id": "d-B_gczconuC",
        "colab_type": "code",
        "outputId": "d8634d9e-34b4-48aa-d6c9-3b65647d6f47",
        "colab": {
          "base_uri": "https://localhost:8080/",
          "height": 34
        }
      },
      "source": [
        "print(den_dec)"
      ],
      "execution_count": 0,
      "outputs": [
        {
          "output_type": "stream",
          "text": [
            "2.537036177030604\n"
          ],
          "name": "stdout"
        }
      ]
    },
    {
      "cell_type": "code",
      "metadata": {
        "id": "euWyCbnaoqX2",
        "colab_type": "code",
        "colab": {}
      },
      "source": [
        ""
      ],
      "execution_count": 0,
      "outputs": []
    }
  ]
}